{
 "cells": [
  {
   "cell_type": "code",
   "id": "initial_id",
   "metadata": {
    "collapsed": true,
    "ExecuteTime": {
     "end_time": "2025-05-13T13:19:05.425282Z",
     "start_time": "2025-05-13T13:19:05.404690Z"
    }
   },
   "source": [
    "import pandas as pd\n",
    "from sklearn.model_selection import train_test_split\n",
    "from sklearn.metrics import ConfusionMatrixDisplay, confusion_matrix\n",
    "from autogluon.tabular import TabularPredictor, TabularDataset\n",
    "customers = pd.read_csv('customers_labeled.csv')\n"
   ],
   "outputs": [],
   "execution_count": 19
  },
  {
   "metadata": {
    "ExecuteTime": {
     "end_time": "2025-05-13T13:10:12.095262Z",
     "start_time": "2025-05-13T13:10:12.085431Z"
    }
   },
   "cell_type": "code",
   "source": "label = \"high_revenue\"",
   "id": "9f2a657ded5c3d3f",
   "outputs": [],
   "execution_count": 14
  },
  {
   "metadata": {
    "ExecuteTime": {
     "end_time": "2025-05-13T13:19:25.957384Z",
     "start_time": "2025-05-13T13:19:25.939275Z"
    }
   },
   "cell_type": "code",
   "source": [
    "X = customers.drop([label], axis=1)\n",
    "y = customers[label]\n",
    "X_train, X_test, y_train, y_test = train_test_split(X, y, test_size=0.2, random_state=42, stratify=y)"
   ],
   "id": "75cb415f2f93908c",
   "outputs": [],
   "execution_count": 23
  },
  {
   "metadata": {
    "ExecuteTime": {
     "end_time": "2025-05-13T13:19:27.511779Z",
     "start_time": "2025-05-13T13:19:27.502647Z"
    }
   },
   "cell_type": "code",
   "source": [
    "train = pd.concat([X_train, y_train], axis=1)\n",
    "test = pd.concat([X_test, y_test], axis=1)"
   ],
   "id": "8800b9fdcff1a1bc",
   "outputs": [],
   "execution_count": 24
  },
  {
   "metadata": {
    "ExecuteTime": {
     "end_time": "2025-05-13T13:09:04.967712Z",
     "start_time": "2025-05-13T13:09:04.962735Z"
    }
   },
   "cell_type": "code",
   "source": "td_train = TabularDataset(train)        ",
   "id": "23ed849fa8d06742",
   "outputs": [],
   "execution_count": 12
  },
  {
   "metadata": {
    "ExecuteTime": {
     "end_time": "2025-05-13T13:10:12.084418Z",
     "start_time": "2025-05-13T13:09:08.447466Z"
    }
   },
   "cell_type": "code",
   "source": [
    "predictor = TabularPredictor(label=label,eval_metric=\"accuracy\").fit(\n",
    "    train_data=td_train,\n",
    "    time_limit=60,\n",
    "    presets=\"best_quality\",\n",
    "    hyperparameters={\n",
    "        \"GBM\": {\"extra_trees\": True, \"ag_args\": {\"name_suffix\":\"GBM\"}},\n",
    "        \"CAT\": {\"ag_args\": {\"name_suffix\":\"CAT\"}},\n",
    "        \"XGB\": {\"ag_args\": {\"name_suffix\":\"XGB\"}},\n",
    "        \"RF\": {\"ag_args\": {\"name_suffix\":\"RF\"}},\n",
    "        \"NN_TORCH\": {\"ag_args\": {\"name_suffix\":\"NN_TORCH\"}},\n",
    "    }\n",
    ")\n"
   ],
   "id": "1c97c968a4e950d2",
   "outputs": [
    {
     "name": "stderr",
     "output_type": "stream",
     "text": [
      "No path specified. Models will be saved in: \"AutogluonModels\\ag-20250513_130908\"\n",
      "Verbosity: 2 (Standard Logging)\n",
      "=================== System Info ===================\n",
      "AutoGluon Version:  1.3.0\n",
      "Python Version:     3.12.5\n",
      "Operating System:   Windows\n",
      "Platform Machine:   AMD64\n",
      "Platform Version:   10.0.19045\n",
      "CPU Count:          20\n",
      "Memory Avail:       4.59 GB / 15.69 GB (29.2%)\n",
      "Disk Space Avail:   144.89 GB / 471.56 GB (30.7%)\n",
      "===================================================\n",
      "Presets specified: ['best_quality']\n",
      "Setting dynamic_stacking from 'auto' to True. Reason: Enable dynamic_stacking when use_bag_holdout is disabled. (use_bag_holdout=False)\n",
      "Stack configuration (auto_stack=True): num_stack_levels=1, num_bag_folds=8, num_bag_sets=1\n",
      "DyStack is enabled (dynamic_stacking=True). AutoGluon will try to determine whether the input data is affected by stacked overfitting and enable or disable stacking as a consequence.\n",
      "\tThis is used to identify the optimal `num_stack_levels` value. Copies of AutoGluon will be fit on subsets of the data. Then holdout validation data is used to detect stacked overfitting.\n",
      "\tRunning DyStack for up to 15s of the 60s of remaining time (25%).\n",
      "\t\tContext path: \"C:\\Users\\s27649\\PycharmProjects\\pythonProject\\AutogluonModels\\ag-20250513_130908\\ds_sub_fit\\sub_fit_ho\"\n",
      "Leaderboard on holdout data (DyStack):\n",
      "                   model  score_holdout  score_val eval_metric  pred_time_test  pred_time_val  fit_time  pred_time_test_marginal  pred_time_val_marginal  fit_time_marginal  stack_level  can_infer  fit_order\n",
      "0     LightGBMGBM_BAG_L1       0.908257   0.908949    accuracy        0.547640       0.063516  1.149576                 0.547640                0.063516           1.149576            1       True          1\n",
      "1    WeightedEnsemble_L3       0.908257   0.908949    accuracy        0.559670       0.063516  1.190227                 0.012030                0.000000           0.040651            3       True          5\n",
      "2    WeightedEnsemble_L2       0.908257   0.908949    accuracy        0.567848       0.063516  1.174768                 0.020208                0.000000           0.025192            2       True          3\n",
      "3     LightGBMGBM_BAG_L2       0.908257   0.908949    accuracy        1.101038       0.503282  3.590248                 0.189042                0.064890           1.401151            2       True          4\n",
      "4  RandomForestRF_BAG_L1       0.903253   0.901856    accuracy        0.364357       0.374876  1.039521                 0.364357                0.374876           1.039521            1       True          2\n",
      "\t1\t = Optimal   num_stack_levels (Stacked Overfitting Occurred: False)\n",
      "\t22s\t = DyStack   runtime |\t38s\t = Remaining runtime\n",
      "Starting main fit with num_stack_levels=1.\n",
      "\tFor future fit calls on this dataset, you can skip DyStack to save time: `predictor.fit(..., dynamic_stacking=False, num_stack_levels=1)`\n",
      "Beginning AutoGluon training ... Time limit = 38s\n",
      "AutoGluon will save models to \"C:\\Users\\s27649\\PycharmProjects\\pythonProject\\AutogluonModels\\ag-20250513_130908\"\n",
      "Train Data Rows:    10787\n",
      "Train Data Columns: 9\n",
      "Label Column:       high_revenue\n",
      "Problem Type:       binary\n",
      "Preprocessing data ...\n",
      "Selected class <--> label mapping:  class 1 = True, class 0 = False\n",
      "Using Feature Generators to preprocess the data ...\n",
      "Fitting AutoMLPipelineFeatureGenerator...\n",
      "\tAvailable Memory:                    4497.64 MB\n",
      "\tTrain Data (Original)  Memory Usage: 3.69 MB (0.1% of available memory)\n",
      "\tInferring data type of each feature based on column values. Set feature_metadata_in to manually specify special dtypes of the features.\n",
      "\tStage 1 Generators:\n",
      "\t\tFitting AsTypeFeatureGenerator...\n",
      "\t\t\tNote: Converting 1 features to boolean dtype as they only contain 2 unique values.\n",
      "\tStage 2 Generators:\n",
      "\t\tFitting FillNaFeatureGenerator...\n",
      "\tStage 3 Generators:\n",
      "\t\tFitting IdentityFeatureGenerator...\n",
      "\t\tFitting CategoryFeatureGenerator...\n",
      "\t\t\tFitting CategoryMemoryMinimizeFeatureGenerator...\n",
      "\tStage 4 Generators:\n",
      "\t\tFitting DropUniqueFeatureGenerator...\n",
      "\tStage 5 Generators:\n",
      "\t\tFitting DropDuplicatesFeatureGenerator...\n",
      "\tTypes of features in original data (raw dtype, special dtypes):\n",
      "\t\t('bool', [])   : 1 | ['campaign']\n",
      "\t\t('float', [])  : 2 | ['age_first_order', 'pages_visited_avg']\n",
      "\t\t('object', []) : 6 | ['customerID', 'gender', 'user_agent_brand', 'user_agent_os', 'ip_address_geopoint', ...]\n",
      "\tTypes of features in processed data (raw dtype, special dtypes):\n",
      "\t\t('category', [])  : 6 | ['customerID', 'gender', 'user_agent_brand', 'user_agent_os', 'ip_address_geopoint', ...]\n",
      "\t\t('float', [])     : 2 | ['age_first_order', 'pages_visited_avg']\n",
      "\t\t('int', ['bool']) : 1 | ['campaign']\n",
      "\t0.1s = Fit runtime\n",
      "\t9 features in original data used to generate 9 features in processed data.\n",
      "\tTrain Data (Processed) Memory Usage: 0.25 MB (0.0% of available memory)\n",
      "Data preprocessing and feature engineering runtime = 0.13s ...\n",
      "AutoGluon will gauge predictive performance using evaluation metric: 'accuracy'\n",
      "\tTo change this, specify the eval_metric parameter of Predictor()\n",
      "User-specified model hyperparameters to be fit:\n",
      "{\n",
      "\t'GBM': [{'extra_trees': True, 'ag_args': {'name_suffix': 'GBM'}}],\n",
      "\t'CAT': [{'ag_args': {'name_suffix': 'CAT'}}],\n",
      "\t'XGB': [{'ag_args': {'name_suffix': 'XGB'}}],\n",
      "\t'RF': [{'ag_args': {'name_suffix': 'RF'}}],\n",
      "\t'NN_TORCH': [{'ag_args': {'name_suffix': 'NN_TORCH'}}],\n",
      "}\n",
      "AutoGluon will fit 2 stack levels (L1 to L2) ...\n",
      "Fitting 5 L1 models, fit_strategy=\"sequential\" ...\n",
      "Fitting model: LightGBMGBM_BAG_L1 ... Training model for up to 25.12s of the 37.69s of remaining time.\n",
      "\tFitting 8 child models (S1F1 - S1F8) | Fitting with ParallelLocalFoldFittingStrategy (8 workers, per: cpus=2, gpus=0, memory=0.14%)\n",
      "\t0.9093\t = Validation score   (accuracy)\n",
      "\t1.39s\t = Training   runtime\n",
      "\t0.07s\t = Validation runtime\n",
      "Fitting model: RandomForestRF_BAG_L1 ... Training model for up to 19.07s of the 31.64s of remaining time.\n",
      "C:\\Users\\s27649\\PycharmProjects\\pythonProject\\.venv\\Lib\\site-packages\\sklearn\\base.py:474: FutureWarning: `BaseEstimator._validate_data` is deprecated in 1.6 and will be removed in 1.7. Use `sklearn.utils.validation.validate_data` instead. This function becomes public and is part of the scikit-learn developer API.\n",
      "  warnings.warn(\n",
      "\t0.9017\t = Validation score   (accuracy)\n",
      "\t1.0s\t = Training   runtime\n",
      "\t0.39s\t = Validation runtime\n",
      "Fitting model: CatBoostCAT_BAG_L1 ... Training model for up to 17.50s of the 30.06s of remaining time.\n",
      "\tFitting 8 child models (S1F1 - S1F8) | Fitting with ParallelLocalFoldFittingStrategy (8 workers, per: cpus=2, gpus=0, memory=8.34%)\n",
      "\t0.9104\t = Validation score   (accuracy)\n",
      "\t16.54s\t = Training   runtime\n",
      "\t0.08s\t = Validation runtime\n",
      "Fitting model: WeightedEnsemble_L2 ... Training model for up to 37.69s of the 11.16s of remaining time.\n",
      "\tEnsemble Weights: {'CatBoostCAT_BAG_L1': 1.0}\n",
      "\t0.9104\t = Validation score   (accuracy)\n",
      "\t0.05s\t = Training   runtime\n",
      "\t0.0s\t = Validation runtime\n",
      "Fitting 5 L2 models, fit_strategy=\"sequential\" ...\n",
      "Fitting model: LightGBMGBM_BAG_L2 ... Training model for up to 11.10s of the 11.10s of remaining time.\n",
      "\tFitting 8 child models (S1F1 - S1F8) | Fitting with ParallelLocalFoldFittingStrategy (8 workers, per: cpus=2, gpus=0, memory=0.22%)\n",
      "\t0.9098\t = Validation score   (accuracy)\n",
      "\t3.43s\t = Training   runtime\n",
      "\t0.1s\t = Validation runtime\n",
      "Fitting model: RandomForestRF_BAG_L2 ... Training model for up to 4.74s of the 4.74s of remaining time.\n",
      "C:\\Users\\s27649\\PycharmProjects\\pythonProject\\.venv\\Lib\\site-packages\\sklearn\\base.py:474: FutureWarning: `BaseEstimator._validate_data` is deprecated in 1.6 and will be removed in 1.7. Use `sklearn.utils.validation.validate_data` instead. This function becomes public and is part of the scikit-learn developer API.\n",
      "  warnings.warn(\n",
      "\t0.9104\t = Validation score   (accuracy)\n",
      "\t0.97s\t = Training   runtime\n",
      "\t0.29s\t = Validation runtime\n",
      "Fitting model: CatBoostCAT_BAG_L2 ... Training model for up to 3.36s of the 3.36s of remaining time.\n",
      "\tFitting 8 child models (S1F1 - S1F8) | Fitting with ParallelLocalFoldFittingStrategy (8 workers, per: cpus=2, gpus=0, memory=8.44%)\n",
      "\t0.9094\t = Validation score   (accuracy)\n",
      "\t4.66s\t = Training   runtime\n",
      "\t0.04s\t = Validation runtime\n",
      "Fitting model: WeightedEnsemble_L3 ... Training model for up to 37.69s of the -3.43s of remaining time.\n",
      "\tEnsemble Weights: {'RandomForestRF_BAG_L2': 0.889, 'CatBoostCAT_BAG_L1': 0.111}\n",
      "\t0.9111\t = Validation score   (accuracy)\n",
      "\t0.08s\t = Training   runtime\n",
      "\t0.0s\t = Validation runtime\n",
      "AutoGluon training complete, total runtime = 41.36s ... Best model: WeightedEnsemble_L3 | Estimated inference throughput: 5734.9 rows/s (1349 batch size)\n",
      "Enabling decision threshold calibration (calibrate_decision_threshold='auto', metric is valid, problem_type is 'binary')\n",
      "Calibrating decision threshold to optimize metric accuracy | Checking 51 thresholds...\n",
      "Calibrating decision threshold via fine-grained search | Checking 38 thresholds...\n",
      "\tBase Threshold: 0.500\t| val: 0.9111\n",
      "\tBest Threshold: 0.500\t| val: 0.9111\n",
      "TabularPredictor saved. To load, use: predictor = TabularPredictor.load(\"C:\\Users\\s27649\\PycharmProjects\\pythonProject\\AutogluonModels\\ag-20250513_130908\")\n"
     ]
    }
   ],
   "execution_count": 13
  },
  {
   "metadata": {
    "ExecuteTime": {
     "end_time": "2025-05-13T13:19:32.765273Z",
     "start_time": "2025-05-13T13:19:32.751336Z"
    }
   },
   "cell_type": "code",
   "source": "td_test = TabularDataset(test)",
   "id": "8ed4685915f9dba8",
   "outputs": [],
   "execution_count": 25
  },
  {
   "metadata": {
    "ExecuteTime": {
     "end_time": "2025-05-13T13:19:34.622356Z",
     "start_time": "2025-05-13T13:19:33.945342Z"
    }
   },
   "cell_type": "code",
   "source": [
    "y_pred = predictor.predict(td_test.drop(columns=[label]), as_pandas=True)\n",
    "y_pred"
   ],
   "id": "4d71a72d11ff4de8",
   "outputs": [
    {
     "data": {
      "text/plain": [
       "9113     False\n",
       "3913     False\n",
       "1008     False\n",
       "6284     False\n",
       "5001     False\n",
       "         ...  \n",
       "9539     False\n",
       "10631    False\n",
       "7730     False\n",
       "7677     False\n",
       "9868     False\n",
       "Name: high_revenue, Length: 2158, dtype: bool"
      ]
     },
     "execution_count": 26,
     "metadata": {},
     "output_type": "execute_result"
    }
   ],
   "execution_count": 26
  },
  {
   "metadata": {
    "ExecuteTime": {
     "end_time": "2025-05-13T13:19:37.036806Z",
     "start_time": "2025-05-13T13:19:36.627494Z"
    }
   },
   "cell_type": "code",
   "source": [
    "y_pred_proba = predictor.predict_proba(td_test, as_pandas=True)\n",
    "y_pred_proba"
   ],
   "id": "8409b92e0b5fa0e9",
   "outputs": [
    {
     "data": {
      "text/plain": [
       "          False     True \n",
       "9113   0.600691  0.399309\n",
       "3913   0.990197  0.009803\n",
       "1008   0.972831  0.027169\n",
       "6284   0.675943  0.324057\n",
       "5001   0.995656  0.004344\n",
       "...         ...       ...\n",
       "9539   0.935387  0.064613\n",
       "10631  0.900056  0.099944\n",
       "7730   0.656206  0.343794\n",
       "7677   0.996288  0.003712\n",
       "9868   0.945957  0.054043\n",
       "\n",
       "[2158 rows x 2 columns]"
      ],
      "text/html": [
       "<div>\n",
       "<style scoped>\n",
       "    .dataframe tbody tr th:only-of-type {\n",
       "        vertical-align: middle;\n",
       "    }\n",
       "\n",
       "    .dataframe tbody tr th {\n",
       "        vertical-align: top;\n",
       "    }\n",
       "\n",
       "    .dataframe thead th {\n",
       "        text-align: right;\n",
       "    }\n",
       "</style>\n",
       "<table border=\"1\" class=\"dataframe\">\n",
       "  <thead>\n",
       "    <tr style=\"text-align: right;\">\n",
       "      <th></th>\n",
       "      <th>False</th>\n",
       "      <th>True</th>\n",
       "    </tr>\n",
       "  </thead>\n",
       "  <tbody>\n",
       "    <tr>\n",
       "      <th>9113</th>\n",
       "      <td>0.600691</td>\n",
       "      <td>0.399309</td>\n",
       "    </tr>\n",
       "    <tr>\n",
       "      <th>3913</th>\n",
       "      <td>0.990197</td>\n",
       "      <td>0.009803</td>\n",
       "    </tr>\n",
       "    <tr>\n",
       "      <th>1008</th>\n",
       "      <td>0.972831</td>\n",
       "      <td>0.027169</td>\n",
       "    </tr>\n",
       "    <tr>\n",
       "      <th>6284</th>\n",
       "      <td>0.675943</td>\n",
       "      <td>0.324057</td>\n",
       "    </tr>\n",
       "    <tr>\n",
       "      <th>5001</th>\n",
       "      <td>0.995656</td>\n",
       "      <td>0.004344</td>\n",
       "    </tr>\n",
       "    <tr>\n",
       "      <th>...</th>\n",
       "      <td>...</td>\n",
       "      <td>...</td>\n",
       "    </tr>\n",
       "    <tr>\n",
       "      <th>9539</th>\n",
       "      <td>0.935387</td>\n",
       "      <td>0.064613</td>\n",
       "    </tr>\n",
       "    <tr>\n",
       "      <th>10631</th>\n",
       "      <td>0.900056</td>\n",
       "      <td>0.099944</td>\n",
       "    </tr>\n",
       "    <tr>\n",
       "      <th>7730</th>\n",
       "      <td>0.656206</td>\n",
       "      <td>0.343794</td>\n",
       "    </tr>\n",
       "    <tr>\n",
       "      <th>7677</th>\n",
       "      <td>0.996288</td>\n",
       "      <td>0.003712</td>\n",
       "    </tr>\n",
       "    <tr>\n",
       "      <th>9868</th>\n",
       "      <td>0.945957</td>\n",
       "      <td>0.054043</td>\n",
       "    </tr>\n",
       "  </tbody>\n",
       "</table>\n",
       "<p>2158 rows × 2 columns</p>\n",
       "</div>"
      ]
     },
     "execution_count": 27,
     "metadata": {},
     "output_type": "execute_result"
    }
   ],
   "execution_count": 27
  },
  {
   "metadata": {
    "ExecuteTime": {
     "end_time": "2025-05-13T13:19:39.423539Z",
     "start_time": "2025-05-13T13:19:38.863325Z"
    }
   },
   "cell_type": "code",
   "source": "predictor.leaderboard(td_test, silent=True)",
   "id": "f0a3fd5760d0375e",
   "outputs": [
    {
     "data": {
      "text/plain": [
       "                   model  score_test  score_val eval_metric  pred_time_test  \\\n",
       "0  RandomForestRF_BAG_L1    1.000000   0.901734    accuracy        0.155847   \n",
       "1  RandomForestRF_BAG_L2    0.924930   0.910355    accuracy        0.423909   \n",
       "2    WeightedEnsemble_L3    0.922150   0.911097    accuracy        0.423909   \n",
       "3    WeightedEnsemble_L2    0.910565   0.910355    accuracy        0.046900   \n",
       "4     CatBoostCAT_BAG_L1    0.910565   0.910355    accuracy        0.046900   \n",
       "5     CatBoostCAT_BAG_L2    0.910102   0.909428    accuracy        0.304211   \n",
       "6     LightGBMGBM_BAG_L1    0.907785   0.909335    accuracy        0.070000   \n",
       "7     LightGBMGBM_BAG_L2    0.907785   0.909799    accuracy        0.342103   \n",
       "\n",
       "   pred_time_val   fit_time  pred_time_test_marginal  pred_time_val_marginal  \\\n",
       "0       0.391830   1.003431                 0.155847                0.391830   \n",
       "1       0.827878  19.905799                 0.151162                0.285532   \n",
       "2       0.827878  19.986695                 0.000000                0.000000   \n",
       "3       0.078096  16.590775                 0.000000                0.000000   \n",
       "4       0.078096  16.543882                 0.046900                0.078096   \n",
       "5       0.580568  23.600043                 0.031465                0.038222   \n",
       "6       0.072420   1.391894                 0.070000                0.072420   \n",
       "7       0.641617  22.367765                 0.069356                0.099271   \n",
       "\n",
       "   fit_time_marginal  stack_level  can_infer  fit_order  \n",
       "0           1.003431            1       True          2  \n",
       "1           0.966593            2       True          6  \n",
       "2           0.080896            3       True          8  \n",
       "3           0.046893            2       True          4  \n",
       "4          16.543882            1       True          3  \n",
       "5           4.660837            2       True          7  \n",
       "6           1.391894            1       True          1  \n",
       "7           3.428559            2       True          5  "
      ],
      "text/html": [
       "<div>\n",
       "<style scoped>\n",
       "    .dataframe tbody tr th:only-of-type {\n",
       "        vertical-align: middle;\n",
       "    }\n",
       "\n",
       "    .dataframe tbody tr th {\n",
       "        vertical-align: top;\n",
       "    }\n",
       "\n",
       "    .dataframe thead th {\n",
       "        text-align: right;\n",
       "    }\n",
       "</style>\n",
       "<table border=\"1\" class=\"dataframe\">\n",
       "  <thead>\n",
       "    <tr style=\"text-align: right;\">\n",
       "      <th></th>\n",
       "      <th>model</th>\n",
       "      <th>score_test</th>\n",
       "      <th>score_val</th>\n",
       "      <th>eval_metric</th>\n",
       "      <th>pred_time_test</th>\n",
       "      <th>pred_time_val</th>\n",
       "      <th>fit_time</th>\n",
       "      <th>pred_time_test_marginal</th>\n",
       "      <th>pred_time_val_marginal</th>\n",
       "      <th>fit_time_marginal</th>\n",
       "      <th>stack_level</th>\n",
       "      <th>can_infer</th>\n",
       "      <th>fit_order</th>\n",
       "    </tr>\n",
       "  </thead>\n",
       "  <tbody>\n",
       "    <tr>\n",
       "      <th>0</th>\n",
       "      <td>RandomForestRF_BAG_L1</td>\n",
       "      <td>1.000000</td>\n",
       "      <td>0.901734</td>\n",
       "      <td>accuracy</td>\n",
       "      <td>0.155847</td>\n",
       "      <td>0.391830</td>\n",
       "      <td>1.003431</td>\n",
       "      <td>0.155847</td>\n",
       "      <td>0.391830</td>\n",
       "      <td>1.003431</td>\n",
       "      <td>1</td>\n",
       "      <td>True</td>\n",
       "      <td>2</td>\n",
       "    </tr>\n",
       "    <tr>\n",
       "      <th>1</th>\n",
       "      <td>RandomForestRF_BAG_L2</td>\n",
       "      <td>0.924930</td>\n",
       "      <td>0.910355</td>\n",
       "      <td>accuracy</td>\n",
       "      <td>0.423909</td>\n",
       "      <td>0.827878</td>\n",
       "      <td>19.905799</td>\n",
       "      <td>0.151162</td>\n",
       "      <td>0.285532</td>\n",
       "      <td>0.966593</td>\n",
       "      <td>2</td>\n",
       "      <td>True</td>\n",
       "      <td>6</td>\n",
       "    </tr>\n",
       "    <tr>\n",
       "      <th>2</th>\n",
       "      <td>WeightedEnsemble_L3</td>\n",
       "      <td>0.922150</td>\n",
       "      <td>0.911097</td>\n",
       "      <td>accuracy</td>\n",
       "      <td>0.423909</td>\n",
       "      <td>0.827878</td>\n",
       "      <td>19.986695</td>\n",
       "      <td>0.000000</td>\n",
       "      <td>0.000000</td>\n",
       "      <td>0.080896</td>\n",
       "      <td>3</td>\n",
       "      <td>True</td>\n",
       "      <td>8</td>\n",
       "    </tr>\n",
       "    <tr>\n",
       "      <th>3</th>\n",
       "      <td>WeightedEnsemble_L2</td>\n",
       "      <td>0.910565</td>\n",
       "      <td>0.910355</td>\n",
       "      <td>accuracy</td>\n",
       "      <td>0.046900</td>\n",
       "      <td>0.078096</td>\n",
       "      <td>16.590775</td>\n",
       "      <td>0.000000</td>\n",
       "      <td>0.000000</td>\n",
       "      <td>0.046893</td>\n",
       "      <td>2</td>\n",
       "      <td>True</td>\n",
       "      <td>4</td>\n",
       "    </tr>\n",
       "    <tr>\n",
       "      <th>4</th>\n",
       "      <td>CatBoostCAT_BAG_L1</td>\n",
       "      <td>0.910565</td>\n",
       "      <td>0.910355</td>\n",
       "      <td>accuracy</td>\n",
       "      <td>0.046900</td>\n",
       "      <td>0.078096</td>\n",
       "      <td>16.543882</td>\n",
       "      <td>0.046900</td>\n",
       "      <td>0.078096</td>\n",
       "      <td>16.543882</td>\n",
       "      <td>1</td>\n",
       "      <td>True</td>\n",
       "      <td>3</td>\n",
       "    </tr>\n",
       "    <tr>\n",
       "      <th>5</th>\n",
       "      <td>CatBoostCAT_BAG_L2</td>\n",
       "      <td>0.910102</td>\n",
       "      <td>0.909428</td>\n",
       "      <td>accuracy</td>\n",
       "      <td>0.304211</td>\n",
       "      <td>0.580568</td>\n",
       "      <td>23.600043</td>\n",
       "      <td>0.031465</td>\n",
       "      <td>0.038222</td>\n",
       "      <td>4.660837</td>\n",
       "      <td>2</td>\n",
       "      <td>True</td>\n",
       "      <td>7</td>\n",
       "    </tr>\n",
       "    <tr>\n",
       "      <th>6</th>\n",
       "      <td>LightGBMGBM_BAG_L1</td>\n",
       "      <td>0.907785</td>\n",
       "      <td>0.909335</td>\n",
       "      <td>accuracy</td>\n",
       "      <td>0.070000</td>\n",
       "      <td>0.072420</td>\n",
       "      <td>1.391894</td>\n",
       "      <td>0.070000</td>\n",
       "      <td>0.072420</td>\n",
       "      <td>1.391894</td>\n",
       "      <td>1</td>\n",
       "      <td>True</td>\n",
       "      <td>1</td>\n",
       "    </tr>\n",
       "    <tr>\n",
       "      <th>7</th>\n",
       "      <td>LightGBMGBM_BAG_L2</td>\n",
       "      <td>0.907785</td>\n",
       "      <td>0.909799</td>\n",
       "      <td>accuracy</td>\n",
       "      <td>0.342103</td>\n",
       "      <td>0.641617</td>\n",
       "      <td>22.367765</td>\n",
       "      <td>0.069356</td>\n",
       "      <td>0.099271</td>\n",
       "      <td>3.428559</td>\n",
       "      <td>2</td>\n",
       "      <td>True</td>\n",
       "      <td>5</td>\n",
       "    </tr>\n",
       "  </tbody>\n",
       "</table>\n",
       "</div>"
      ]
     },
     "execution_count": 28,
     "metadata": {},
     "output_type": "execute_result"
    }
   ],
   "execution_count": 28
  },
  {
   "metadata": {
    "ExecuteTime": {
     "end_time": "2025-05-13T13:21:20.448416Z",
     "start_time": "2025-05-13T13:21:20.342998Z"
    }
   },
   "cell_type": "code",
   "source": [
    "cm = confusion_matrix(td_test[label], y_pred)\n",
    "ConfusionMatrixDisplay(cm, display_labels=predictor.classes_).plot()"
   ],
   "id": "c6543c030a546ed6",
   "outputs": [
    {
     "data": {
      "text/plain": [
       "<sklearn.metrics._plot.confusion_matrix.ConfusionMatrixDisplay at 0x2b92b092ea0>"
      ]
     },
     "execution_count": 31,
     "metadata": {},
     "output_type": "execute_result"
    },
    {
     "data": {
      "text/plain": [
       "<Figure size 640x480 with 2 Axes>"
      ],
      "image/png": "[encoded data removed]"
     },
     "metadata": {},
     "output_type": "display_data"
    }
   ],
   "execution_count": 31
  }
 ],
 "metadata": {
  "kernelspec": {
   "display_name": "Python 3",
   "language": "python",
   "name": "python3"
  },
  "language_info": {
   "codemirror_mode": {
    "name": "ipython",
    "version": 2
   },
   "file_extension": ".py",
   "mimetype": "text/x-python",
   "name": "python",
   "nbconvert_exporter": "python",
   "pygments_lexer": "ipython2",
   "version": "2.7.6"
  }
 },
 "nbformat": 4,
 "nbformat_minor": 5
}
